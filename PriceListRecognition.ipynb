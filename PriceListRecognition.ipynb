{
 "cells": [
  {
   "cell_type": "code",
   "execution_count": 1,
   "metadata": {
    "collapsed": true
   },
   "outputs": [],
   "source": [
    "import cv2 as cv\n",
    "import os\n",
    "import numpy as np\n",
    "from PIL import Image\n",
    "import pytesseract"
   ]
  },
  {
   "cell_type": "code",
   "execution_count": 5,
   "metadata": {},
   "outputs": [
    {
     "name": "stdout",
     "output_type": "stream",
     "text": [
      "Молоко «Коровка из\n",
      "Кореновки»\n",
      "\n",
      "    \n",
      " \n",
      "\n",
      "56 руб.\n"
     ]
    }
   ],
   "source": [
    "# load image\n",
    "img = cv.imread('coCZPhtn8fU.jpg')\n",
    "gray = cv.cvtColor(img, cv.COLOR_BGR2GRAY);\n",
    " # convert to grayscale\n",
    "\n",
    "otsu_thresh_val = cv.threshold(gray, 0, 255, cv.THRESH_BINARY | cv.THRESH_OTSU)\n",
    "high_thresh_val = otsu_thresh_val[0]\n",
    "lower_thresh_val = otsu_thresh_val[0] * 0.2\n",
    "\n",
    "#edged = cv.Canny(image, lower_thresh_val, high_thresh_val)\n",
    "edged = cv.Canny(img, 100, 350)\n",
    "\n",
    "image, contours, hierarchy = cv.findContours(edged, cv.RETR_EXTERNAL, cv.CHAIN_APPROX_SIMPLE)\n",
    "#contours = sorted(contours, key=cv.contourArea, reverse=True)[1:]\n",
    "\n",
    "def crop_minAreaRect(img, rect):\n",
    "    # Source: https://stackoverflow.com/questions/37177811/\n",
    "\n",
    "    # rotate img\n",
    "    angle = rect[2]\n",
    "    rows,cols = img.shape[0], img.shape[1]\n",
    "    matrix = cv.getRotationMatrix2D((cols/2,rows/2),angle,1)\n",
    "    img_rot = cv.warpAffine(img,matrix,(cols,rows))\n",
    "\n",
    "    # rotate bounding box\n",
    "    rect0 = (rect[0], rect[1], 0.0)\n",
    "    box = cv.boxPoints(rect)\n",
    "    pts = np.int0(cv.transform(np.array([box]), matrix))[0]\n",
    "    pts[pts < 0] = 0\n",
    "\n",
    "    # crop and return\n",
    "    return img_rot[pts[1][1]:pts[0][1], pts[1][0]:pts[2][0]]\n",
    "\n",
    "# Find object with the biggest bounding box\n",
    "mx_rect = (0,0,0,0)      # biggest skewed bounding box\n",
    "mx_area = 0\n",
    "for cont in contours:\n",
    "    arect = cv.minAreaRect(cont)\n",
    "    area = arect[1][0]*arect[1][1]\n",
    "    if area > mx_area:\n",
    "        mx_rect, mx_area = arect, area\n",
    "\n",
    "# Output to files\n",
    "roi = crop_minAreaRect(img, mx_rect)\n",
    "cv.imwrite('Image_crop.jpg', roi)\n",
    "\n",
    "box = cv.boxPoints(mx_rect)\n",
    "box = np.int0(box)\n",
    "cv.drawContours(img,[box],0,(200,0,0),2)\n",
    "cv.imwrite('Image_cont.jpg', img)\n",
    "\n",
    "pytesseract.pytesseract.tesseract_cmd = 'D:/Soft/Tesseract-OCR/tesseract.exe'\n",
    "tessdata_dir_config = '--tessdata-dir \"D:/Soft/Tesseract-OCR/tessdata\"'\n",
    "print(pytesseract.image_to_string(Image.open('Image_crop.jpg'), lang='rus', config = tessdata_dir_config))\n",
    "\n",
    "cv.waitKey(0)\n",
    "cv.destroyAllWindows()"
   ]
  },
  {
   "cell_type": "code",
   "execution_count": 87,
   "metadata": {
    "collapsed": true,
    "scrolled": true
   },
   "outputs": [],
   "source": [
    "#img = find_card_file('q5Y4XFYojAc.jpg')\n",
    "#cv.imshow('img', img)\n",
    "\n",
    "\n",
    "\n",
    "#img = cv.imread('q5Y4XFYojAc.jpg', 1)\n",
    "#temp = cv.Canny(img, 100, 340)\n",
    "#ret,thresh = cv.threshold(temp,128,255,0)\n",
    "#im2, contours, hierarchy = cv.findContours(thresh,cv.RETR_TREE,cv.CHAIN_APPROX_SIMPLE)\n",
    "\n",
    "#cv.imshow(\"canny\", temp)\n",
    "#cv.imshow(\"result_img\", im2)"
   ]
  },
  {
   "cell_type": "code",
   "execution_count": null,
   "metadata": {
    "collapsed": true
   },
   "outputs": [],
   "source": []
  },
  {
   "cell_type": "code",
   "execution_count": null,
   "metadata": {
    "collapsed": true
   },
   "outputs": [],
   "source": []
  },
  {
   "cell_type": "code",
   "execution_count": null,
   "metadata": {
    "collapsed": true
   },
   "outputs": [],
   "source": []
  },
  {
   "cell_type": "code",
   "execution_count": null,
   "metadata": {
    "collapsed": true
   },
   "outputs": [],
   "source": []
  },
  {
   "cell_type": "code",
   "execution_count": null,
   "metadata": {
    "collapsed": true
   },
   "outputs": [],
   "source": []
  },
  {
   "cell_type": "code",
   "execution_count": null,
   "metadata": {
    "collapsed": true
   },
   "outputs": [],
   "source": []
  },
  {
   "cell_type": "code",
   "execution_count": null,
   "metadata": {
    "collapsed": true
   },
   "outputs": [],
   "source": []
  },
  {
   "cell_type": "code",
   "execution_count": null,
   "metadata": {
    "collapsed": true
   },
   "outputs": [],
   "source": []
  },
  {
   "cell_type": "code",
   "execution_count": null,
   "metadata": {
    "collapsed": true
   },
   "outputs": [],
   "source": []
  },
  {
   "cell_type": "code",
   "execution_count": null,
   "metadata": {
    "collapsed": true
   },
   "outputs": [],
   "source": []
  },
  {
   "cell_type": "code",
   "execution_count": null,
   "metadata": {
    "collapsed": true
   },
   "outputs": [],
   "source": []
  },
  {
   "cell_type": "code",
   "execution_count": null,
   "metadata": {
    "collapsed": true
   },
   "outputs": [],
   "source": []
  },
  {
   "cell_type": "code",
   "execution_count": null,
   "metadata": {
    "collapsed": true
   },
   "outputs": [],
   "source": []
  }
 ],
 "metadata": {
  "kernelspec": {
   "display_name": "Python 3",
   "language": "python",
   "name": "python3"
  },
  "language_info": {
   "codemirror_mode": {
    "name": "ipython",
    "version": 3
   },
   "file_extension": ".py",
   "mimetype": "text/x-python",
   "name": "python",
   "nbconvert_exporter": "python",
   "pygments_lexer": "ipython3",
   "version": "3.6.3"
  }
 },
 "nbformat": 4,
 "nbformat_minor": 2
}
