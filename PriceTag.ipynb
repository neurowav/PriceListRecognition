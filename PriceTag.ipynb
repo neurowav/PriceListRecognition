{
 "cells": [
  {
   "cell_type": "code",
   "execution_count": 276,
   "metadata": {},
   "outputs": [],
   "source": [
    "import os\n",
    "import cv2\n",
    "import numpy as np\n",
    "import pytesseract\n",
    "from PIL import Image\n",
    "\n",
    "def find_pricetag_file(image_path):\n",
    "    return find_pricetag_image(cv2.imread(image_path))\n",
    "\n",
    "\n",
    "def find_pricetag_image(image):\n",
    "    cv2.imwrite( \"latest_raw.jpg\", image)\n",
    "\n",
    "    img = _get_crop(image)\n",
    "\n",
    "    cv2.imwrite( \"latest_crop.jpg\", img)\n",
    "\n",
    "    return img\n",
    "\n",
    "\n",
    "def _auto_canny_otsu(image):\n",
    "    otsu_thresh_val = cv2.threshold(image, 0, 255, cv2.THRESH_BINARY | cv2.THRESH_OTSU)\n",
    "    high_thresh_val = otsu_thresh_val[0]\n",
    "    lower_thresh_val = otsu_thresh_val[0] * 0.5\n",
    "\n",
    "    edged = cv2.Canny(image, lower_thresh_val, high_thresh_val)\n",
    "\n",
    "    cv2.imwrite(\"steps_thres.jpg\", otsu_thresh_val[1])\n",
    "    cv2.imwrite(\"steps_edged.jpg\", edged)\n",
    "\n",
    "    return edged\n",
    "\n",
    "\n",
    "def _get_pricetag_contour(mat):\n",
    "    bw = cv2.cvtColor(mat, cv2.COLOR_BGR2GRAY)\n",
    "    \n",
    "    kernel = np.ones((5,5),np.uint8)\n",
    "    bw = cv2.dilate(bw,kernel,iterations = 4)\n",
    "    \n",
    "    edged = _auto_canny_otsu(bw)\n",
    "    \n",
    "    img, contours, hierarchy = cv2.findContours(edged, cv2.RETR_EXTERNAL, cv2.CHAIN_APPROX_SIMPLE)\n",
    "\n",
    "    contours = sorted(contours, key=cv2.contourArea, reverse=True)[:1]\n",
    "\n",
    "    return contours\n",
    "\n",
    "\n",
    "def _get_crop(original_image):\n",
    "    scale_mult = 0.15\n",
    "    mat = cv2.resize(original_image, (0, 0), fx=scale_mult, fy=scale_mult)\n",
    "    contour = _get_pricetag_contour(mat)\n",
    "\n",
    "    # Obtain shape approximation\n",
    "    card = contour[0]\n",
    "    peri = cv2.arcLength(card, True)\n",
    "    approx = cv2.approxPolyDP(card, 0.02 * peri, True)\n",
    "\n",
    "    x, y, w, h = cv2.boundingRect(card)\n",
    "    w /= scale_mult\n",
    "    h /= scale_mult\n",
    "\n",
    "    w = int(w)\n",
    "    h = int(h)\n",
    "\n",
    "    # Test to see if our approximation is a quadrilateral\n",
    "    if len(approx) != 4:\n",
    "        rect = rectify(cv2.boxPoints(cv2.minAreaRect(card)))\n",
    "    else:\n",
    "        # Great! We can safely apply our perspective correction technique\n",
    "        rect = rectify(approx)\n",
    "\n",
    "    for i in range(4):\n",
    "        # Compute all 4 corners on original image (re-apply scaling)\n",
    "        rect[i][0] /= scale_mult\n",
    "        rect[i][1] /= scale_mult\n",
    "        \n",
    "    cv2.imwrite(\"steps_contours_bon.jpg\", original_image)\n",
    "\n",
    "    # Output perspective correction to an image of about the same size\n",
    "    output = np.array([[0, 0], [w-1, 0], [w-1, h-1], [0, h-1]], np.float32)\n",
    "    transform = cv2.getPerspectiveTransform(rect, output)\n",
    "    return cv2.warpPerspective(original_image, transform, (w, h))\n",
    "\n",
    "\n",
    "def rectify(h):\n",
    "    h = h.reshape((4, 2))\n",
    "    hnew = np.zeros((4, 2), dtype=np.float32)\n",
    "\n",
    "    add = h.sum(1)\n",
    "    hnew[0] = h[np.argmin(add)]\n",
    "    hnew[2] = h[np.argmax(add)]\n",
    "\n",
    "    diff = np.diff(h, axis=1)\n",
    "    hnew[1] = h[np.argmin(diff)]\n",
    "    hnew[3] = h[np.argmax(diff)]\n",
    "\n",
    "    return hnew\n",
    "\n"
   ]
  },
  {
   "cell_type": "markdown",
   "metadata": {},
   "source": [
    "<img src=\"WuUk3Cu3-ps.jpg\", width=700, height=400>"
   ]
  },
  {
   "cell_type": "code",
   "execution_count": 277,
   "metadata": {},
   "outputs": [
    {
     "data": {
      "text/plain": [
       "True"
      ]
     },
     "execution_count": 277,
     "metadata": {},
     "output_type": "execute_result"
    }
   ],
   "source": [
    "img_path = \"WuUk3Cu3-ps.jpg\"\n",
    "img = find_pricetag_file(img_path)\n",
    "\n",
    "cropped = cv2.imread(\"latest_crop.jpg\", 0)\n",
    "retval, cropped = cv2.threshold(cropped, 0, 255, cv2.THRESH_BINARY | cv2.THRESH_OTSU)\n",
    "\n",
    "kernel = np.ones((2,2),np.uint8)\n",
    "cropped = cv2.erode(cropped,kernel,iterations = 1)\n",
    "cv2.imwrite( \"latest_crop.jpg\", cropped)"
   ]
  },
  {
   "cell_type": "markdown",
   "metadata": {},
   "source": [
    "<img src=\"screen/1.png\", width=500, height=400>"
   ]
  },
  {
   "cell_type": "code",
   "execution_count": 278,
   "metadata": {
    "collapsed": true
   },
   "outputs": [],
   "source": [
    "cv2.imshow('img',cropped)\n",
    "cv2.waitKey(0)\n",
    "cv2.destroyAllWindows()"
   ]
  },
  {
   "cell_type": "code",
   "execution_count": 279,
   "metadata": {},
   "outputs": [
    {
     "name": "stdout",
     "output_type": "stream",
     "text": [
      "Пиво БОЯРИНЪ ЖИВОЕ 1.4211\n",
      "\n",
      "свиное 4,5% №1\n",
      "\n",
      "эти тихсос. россия :\n",
      "109\n",
      "|\n",
      "\n",
      "\\\\\\\\\\\\П\\№\\\\|\\\\\\№\\Ш\n"
     ]
    }
   ],
   "source": [
    "pytesseract.pytesseract.tesseract_cmd = 'D:/Soft/Tesseract-OCR/tesseract.exe'\n",
    "tessdata_dir_config = '--tessdata-dir \"D:/Soft/Tesseract-OCR/tessdata\"'\n",
    "print(pytesseract.image_to_string(Image.open(\"latest_crop.jpg\"), lang='rus', config = tessdata_dir_config))"
   ]
  },
  {
   "cell_type": "markdown",
   "metadata": {},
   "source": [
    "<img src=\"1GPp4A4zA1E.jpg\", width = 700, height = 400>"
   ]
  },
  {
   "cell_type": "code",
   "execution_count": 280,
   "metadata": {},
   "outputs": [
    {
     "data": {
      "text/plain": [
       "True"
      ]
     },
     "execution_count": 280,
     "metadata": {},
     "output_type": "execute_result"
    }
   ],
   "source": [
    "img_path = \"1GPp4A4zA1E.jpg\"\n",
    "img = find_pricetag_file(img_path)\n",
    "\n",
    "cropped = cv2.imread(\"latest_crop.jpg\", 0)\n",
    "retval, cropped = cv2.threshold(cropped, 0, 255, cv2.THRESH_BINARY | cv2.THRESH_OTSU)\n",
    "\n",
    "kernel = np.ones((2,2),np.uint8)\n",
    "cropped = cv2.dilate(cropped,kernel,iterations = 1)\n",
    "cv2.imwrite( \"latest_crop.jpg\", cropped)"
   ]
  },
  {
   "cell_type": "markdown",
   "metadata": {},
   "source": [
    "<img src=\"screen/2.png\", width=500, height=400>"
   ]
  },
  {
   "cell_type": "code",
   "execution_count": 281,
   "metadata": {
    "collapsed": true
   },
   "outputs": [],
   "source": [
    "cv2.imshow('img',cropped)\n",
    "cv2.waitKey(0)\n",
    "cv2.destroyAllWindows()"
   ]
  },
  {
   "cell_type": "code",
   "execution_count": 282,
   "metadata": {},
   "outputs": [
    {
     "name": "stdout",
     "output_type": "stream",
     "text": [
      "Пиво БОЯРИНЪ ЖИВОЕ 1.42л\n",
      "\n",
      "светлое 4,5% ПЭТ\n",
      "\\\n",
      "здвод трнхсос. россия ‘\n",
      "\n",
      "109”\n",
      "\n",
      "… НШНПШН НПНШППНН № ”‘*- *$\n"
     ]
    }
   ],
   "source": [
    "pytesseract.pytesseract.tesseract_cmd = 'D:/Soft/Tesseract-OCR/tesseract.exe'\n",
    "tessdata_dir_config = '--tessdata-dir \"D:/Soft/Tesseract-OCR/tessdata\"'\n",
    "print(pytesseract.image_to_string(Image.open(\"latest_crop.jpg\"), lang='rus', config = tessdata_dir_config))"
   ]
  },
  {
   "cell_type": "markdown",
   "metadata": {},
   "source": [
    "<img src=\"1UGHGHRQKxU.jpg\", width = 700, height = 400>"
   ]
  },
  {
   "cell_type": "code",
   "execution_count": 284,
   "metadata": {},
   "outputs": [
    {
     "data": {
      "text/plain": [
       "True"
      ]
     },
     "execution_count": 284,
     "metadata": {},
     "output_type": "execute_result"
    }
   ],
   "source": [
    "img_path = \"1UGHGHRQKxU.jpg\"\n",
    "img = find_pricetag_file(img_path)\n",
    "\n",
    "cropped = cv2.imread(\"latest_crop.jpg\", 0)\n",
    "retval, cropped = cv2.threshold(cropped, 0, 255, cv2.THRESH_BINARY | cv2.THRESH_OTSU)\n",
    "\n",
    "kernel = np.ones((5,5),np.uint8)\n",
    "cropped = cv2.dilate(cropped,kernel,iterations = 1)\n",
    "cropped = cv2.erode(cropped,kernel,iterations = 1)\n",
    "\n",
    "cv2.imwrite( \"latest_crop.jpg\", cropped)"
   ]
  },
  {
   "cell_type": "markdown",
   "metadata": {},
   "source": [
    "<img src=\"screen/3.png\", width=500, height=400>"
   ]
  },
  {
   "cell_type": "code",
   "execution_count": 285,
   "metadata": {
    "collapsed": true
   },
   "outputs": [],
   "source": [
    "cv2.imshow('img',cropped)\n",
    "cv2.waitKey(0)\n",
    "cv2.destroyAllWindows()"
   ]
  },
  {
   "cell_type": "code",
   "execution_count": 286,
   "metadata": {},
   "outputs": [
    {
     "name": "stdout",
     "output_type": "stream",
     "text": [
      "„..:, % \"…“? „…\n",
      "\n",
      "ЗАВОД '.:‘і'. ' СЕ\": |\". \"'СИЧ\n",
      "\n",
      "109,”\n",
      "\n",
      "| ”| П .' .'”?!5 Ш!\" ||!\n"
     ]
    }
   ],
   "source": [
    "pytesseract.pytesseract.tesseract_cmd = 'D:/Soft/Tesseract-OCR/tesseract.exe'\n",
    "tessdata_dir_config = '--tessdata-dir \"D:/Soft/Tesseract-OCR/tessdata\"'\n",
    "print(pytesseract.image_to_string(Image.open(\"latest_crop.jpg\"), lang='rus', config = tessdata_dir_config))"
   ]
  },
  {
   "cell_type": "markdown",
   "metadata": {},
   "source": [
    "<img src=\"96mXYYJnomk.jpg\", width = 700, height = 400>"
   ]
  },
  {
   "cell_type": "code",
   "execution_count": 287,
   "metadata": {},
   "outputs": [
    {
     "data": {
      "text/plain": [
       "True"
      ]
     },
     "execution_count": 287,
     "metadata": {},
     "output_type": "execute_result"
    }
   ],
   "source": [
    "img_path = \"96mXYYJnomk.jpg\"\n",
    "img = find_pricetag_file(img_path)\n",
    "\n",
    "cropped = cv2.imread(\"latest_crop.jpg\", 0)\n",
    "retval, cropped = cv2.threshold(cropped, 0, 255, cv2.THRESH_BINARY | cv2.THRESH_OTSU)\n",
    "\n",
    "cv2.imwrite( \"latest_crop.jpg\", cropped)"
   ]
  },
  {
   "cell_type": "markdown",
   "metadata": {},
   "source": [
    "<img src=\"screen/4.png\", width=500, height=400>"
   ]
  },
  {
   "cell_type": "code",
   "execution_count": 288,
   "metadata": {
    "collapsed": true
   },
   "outputs": [],
   "source": [
    "cv2.imshow('img',cropped)\n",
    "cv2.waitKey(0)\n",
    "cv2.destroyAllWindows()"
   ]
  },
  {
   "cell_type": "code",
   "execution_count": 289,
   "metadata": {},
   "outputs": [
    {
     "name": "stdout",
     "output_type": "stream",
     "text": [
      "Пиво БОЯРИНЪ ЖИВОЕ !.\n",
      "\n",
      "светлое 4,5% ПЭТ\n",
      "ЗАВОД ЁРЕХСОС. РОССИЯ\n",
      "\n",
      "109\n",
      "\n",
      "|” НП||Н| | ППШППШШШШШ __Ё'Ё:\n"
     ]
    }
   ],
   "source": [
    "pytesseract.pytesseract.tesseract_cmd = 'D:/Soft/Tesseract-OCR/tesseract.exe'\n",
    "tessdata_dir_config = '--tessdata-dir \"D:/Soft/Tesseract-OCR/tessdata\"'\n",
    "print(pytesseract.image_to_string(Image.open(\"latest_crop.jpg\"), lang='rus', config = tessdata_dir_config))"
   ]
  },
  {
   "cell_type": "markdown",
   "metadata": {},
   "source": [
    "<img src=\"IMG_3223.jpg\", width = 400, height = 300>"
   ]
  },
  {
   "cell_type": "code",
   "execution_count": 290,
   "metadata": {},
   "outputs": [
    {
     "data": {
      "text/plain": [
       "True"
      ]
     },
     "execution_count": 290,
     "metadata": {},
     "output_type": "execute_result"
    }
   ],
   "source": [
    "img_path = \"IMG_3223.jpg\"\n",
    "img = find_pricetag_file(img_path)\n",
    "\n",
    "cropped = cv2.imread(\"latest_crop.jpg\", 0)\n",
    "retval, cropped = cv2.threshold(cropped, 0, 255, cv2.THRESH_BINARY | cv2.THRESH_OTSU)\n",
    "\n",
    "kernel = np.ones((5,5),np.uint8)\n",
    "cropped = cv2.dilate(cropped,kernel,iterations = 1)\n",
    "\n",
    "cv2.imwrite( \"latest_crop.jpg\", cropped)"
   ]
  },
  {
   "cell_type": "markdown",
   "metadata": {},
   "source": [
    "<img src=\"screen/5.png\", width=500, height=400>"
   ]
  },
  {
   "cell_type": "code",
   "execution_count": 291,
   "metadata": {
    "collapsed": true
   },
   "outputs": [],
   "source": [
    "cv2.imshow('img',cropped)\n",
    "cv2.waitKey(0)\n",
    "cv2.destroyAllWindows()"
   ]
  },
  {
   "cell_type": "code",
   "execution_count": 292,
   "metadata": {},
   "outputs": [
    {
     "name": "stdout",
     "output_type": "stream",
     "text": [
      "Напиток ПЕПСИ-КОЛА 1.75л\n",
      "\n",
      "безалкогольный газир.ПЭТ\n",
      "\n",
      "Рерзісо Но|с|іп\n",
      "\n",
      " \n",
      "\n",
      "пншнншилшлшппишиш №№\n"
     ]
    }
   ],
   "source": [
    "pytesseract.pytesseract.tesseract_cmd = 'D:/Soft/Tesseract-OCR/tesseract.exe'\n",
    "tessdata_dir_config = '--tessdata-dir \"D:/Soft/Tesseract-OCR/tessdata\"'\n",
    "print(pytesseract.image_to_string(Image.open(\"latest_crop.jpg\"), lang='rus', config = tessdata_dir_config))"
   ]
  },
  {
   "cell_type": "markdown",
   "metadata": {},
   "source": [
    "<img src=\"IMG_3254.jpg\", width = 400, height = 300>"
   ]
  },
  {
   "cell_type": "code",
   "execution_count": 293,
   "metadata": {},
   "outputs": [
    {
     "data": {
      "text/plain": [
       "True"
      ]
     },
     "execution_count": 293,
     "metadata": {},
     "output_type": "execute_result"
    }
   ],
   "source": [
    "img_path = \"IMG_3254.jpg\"\n",
    "img = find_pricetag_file(img_path)\n",
    "\n",
    "cropped = cv2.imread(\"latest_crop.jpg\", 0)\n",
    "retval, cropped = cv2.threshold(cropped, 0, 255, cv2.THRESH_BINARY | cv2.THRESH_OTSU)\n",
    "\n",
    "kernel = np.ones((5,5),np.uint8)\n",
    "cropped = cv2.dilate(cropped,kernel,iterations = 1)\n",
    "\n",
    "cv2.imwrite( \"latest_crop.jpg\", cropped)"
   ]
  },
  {
   "cell_type": "markdown",
   "metadata": {},
   "source": [
    "<img src=\"screen/6.png\", width=500, height=400>"
   ]
  },
  {
   "cell_type": "code",
   "execution_count": 294,
   "metadata": {
    "collapsed": true
   },
   "outputs": [],
   "source": [
    "cv2.imshow('img',cropped)\n",
    "cv2.waitKey(0)\n",
    "cv2.destroyAllWindows()"
   ]
  },
  {
   "cell_type": "code",
   "execution_count": 295,
   "metadata": {},
   "outputs": [
    {
     "name": "stdout",
     "output_type": "stream",
     "text": [
      ". БОЯРИНЪ ЖИВОЕ 1.4211\n",
      "\n",
      "06 4,5% ПЭТ\n",
      "ЁРЕХСОС. РОССИЯ\n",
      "\n",
      "109°°\n",
      "\n",
      "|№”…НННПППНН !!!!! №№\n"
     ]
    }
   ],
   "source": [
    "pytesseract.pytesseract.tesseract_cmd = 'D:/Soft/Tesseract-OCR/tesseract.exe'\n",
    "tessdata_dir_config = '--tessdata-dir \"D:/Soft/Tesseract-OCR/tessdata\"'\n",
    "print(pytesseract.image_to_string(Image.open(\"latest_crop.jpg\"), lang='rus', config = tessdata_dir_config))"
   ]
  },
  {
   "cell_type": "markdown",
   "metadata": {},
   "source": [
    "<img src=\"IMG_20180506_214436.jpg\", width = 400, height = 300>"
   ]
  },
  {
   "cell_type": "code",
   "execution_count": 296,
   "metadata": {},
   "outputs": [
    {
     "data": {
      "text/plain": [
       "True"
      ]
     },
     "execution_count": 296,
     "metadata": {},
     "output_type": "execute_result"
    }
   ],
   "source": [
    "img_path = \"IMG_20180506_214436.jpg\"\n",
    "img = find_pricetag_file(img_path)\n",
    "\n",
    "cropped = cv2.imread(\"latest_crop.jpg\", 0)\n",
    "retval, cropped = cv2.threshold(cropped, 0, 255, cv2.THRESH_BINARY | cv2.THRESH_OTSU)\n",
    "\n",
    "kernel = np.ones((5,5),np.uint8)\n",
    "cropped = cv2.dilate(cropped,kernel,iterations = 2)\n",
    "\n",
    "cv2.imwrite( \"latest_crop.jpg\", cropped)"
   ]
  },
  {
   "cell_type": "markdown",
   "metadata": {},
   "source": [
    "<img src=\"screen/7.png\", width=500, height=400>"
   ]
  },
  {
   "cell_type": "code",
   "execution_count": 297,
   "metadata": {
    "collapsed": true
   },
   "outputs": [],
   "source": [
    "cv2.imshow('img',cropped)\n",
    "cv2.waitKey(0)\n",
    "cv2.destroyAllWindows()"
   ]
  },
  {
   "cell_type": "code",
   "execution_count": 298,
   "metadata": {},
   "outputs": [
    {
     "name": "stdout",
     "output_type": "stream",
     "text": [
      "Напиток ПЕПСИ-КОЛА 1. 75л\n",
      "\n",
      "безалкогольный газир.ПЭТ\n",
      "\n",
      "Рерзісо Ноісііп\n",
      "\n",
      "95°°\n",
      "\n",
      "і////!/!|!/Н/…!ЁЁ!!!Е ”\"' !ННМНН Ц\"*`**‹-Ётд…х…ітт:‘%\n"
     ]
    }
   ],
   "source": [
    "pytesseract.pytesseract.tesseract_cmd = 'D:/Soft/Tesseract-OCR/tesseract.exe'\n",
    "tessdata_dir_config = '--tessdata-dir \"D:/Soft/Tesseract-OCR/tessdata\"'\n",
    "print(pytesseract.image_to_string(Image.open(\"latest_crop.jpg\"), lang='rus', config = tessdata_dir_config))"
   ]
  },
  {
   "cell_type": "markdown",
   "metadata": {},
   "source": [
    "<img src=\"NsjCnKK_ev4.jpg\", width = 400, height = 300>"
   ]
  },
  {
   "cell_type": "code",
   "execution_count": 299,
   "metadata": {},
   "outputs": [
    {
     "data": {
      "text/plain": [
       "True"
      ]
     },
     "execution_count": 299,
     "metadata": {},
     "output_type": "execute_result"
    }
   ],
   "source": [
    "img_path = \"NsjCnKK_ev4.jpg\"\n",
    "img = find_pricetag_file(img_path)\n",
    "\n",
    "cropped = cv2.imread(\"latest_crop.jpg\", 0)\n",
    "retval, cropped = cv2.threshold(cropped, 0, 255, cv2.THRESH_BINARY | cv2.THRESH_OTSU)\n",
    "\n",
    "kernel = np.ones((2,2),np.uint8)\n",
    "cropped = cv2.erode(cropped,kernel,iterations = 1)\n",
    "cropped = cv2.dilate(cropped,kernel,iterations = 1)\n",
    "\n",
    "\n",
    "cv2.imwrite( \"latest_crop.jpg\", cropped)"
   ]
  },
  {
   "cell_type": "markdown",
   "metadata": {},
   "source": [
    "<img src=\"screen/8.png\", width=500, height=400>"
   ]
  },
  {
   "cell_type": "code",
   "execution_count": 300,
   "metadata": {
    "collapsed": true
   },
   "outputs": [],
   "source": [
    "cv2.imshow('img',cropped)\n",
    "cv2.waitKey(0)\n",
    "cv2.destroyAllWindows()"
   ]
  },
  {
   "cell_type": "code",
   "execution_count": 301,
   "metadata": {},
   "outputs": [
    {
     "name": "stdout",
     "output_type": "stream",
     "text": [
      "Пиво БОЯРИНЪ ЖИВОЕ 1.42п ‘\n",
      "\n",
      "тише 4,5% пэт\n",
      "ЗАВОД тпхсос. россия\n",
      "\n",
      "10934\n",
      "\n",
      "Ш ”№№!!!” ПШШШ||||||Е||| “№…;\n"
     ]
    }
   ],
   "source": [
    "pytesseract.pytesseract.tesseract_cmd = 'D:/Soft/Tesseract-OCR/tesseract.exe'\n",
    "tessdata_dir_config = '--tessdata-dir \"D:/Soft/Tesseract-OCR/tessdata\"'\n",
    "print(pytesseract.image_to_string(Image.open(\"latest_crop.jpg\"), lang='rus', config = tessdata_dir_config))"
   ]
  },
  {
   "cell_type": "markdown",
   "metadata": {},
   "source": [
    "<img src=\"OQ0sPppXGRY.jpg\", width = 400, height = 300>"
   ]
  },
  {
   "cell_type": "code",
   "execution_count": 302,
   "metadata": {},
   "outputs": [
    {
     "data": {
      "text/plain": [
       "True"
      ]
     },
     "execution_count": 302,
     "metadata": {},
     "output_type": "execute_result"
    }
   ],
   "source": [
    "img_path = \"OQ0sPppXGRY.jpg\"\n",
    "img = find_pricetag_file(img_path)\n",
    "\n",
    "cropped = cv2.imread(\"latest_crop.jpg\", 0)\n",
    "retval, cropped = cv2.threshold(cropped, 0, 255, cv2.THRESH_BINARY | cv2.THRESH_OTSU)\n",
    "\n",
    "kernel = np.ones((2,2),np.uint8)\n",
    "cropped = cv2.erode(cropped,kernel,iterations = 1)\n",
    "\n",
    "cv2.imwrite( \"latest_crop.jpg\", cropped)"
   ]
  },
  {
   "cell_type": "markdown",
   "metadata": {},
   "source": [
    "<img src=\"screen/9.png\", width=500, height=400>"
   ]
  },
  {
   "cell_type": "code",
   "execution_count": 303,
   "metadata": {
    "collapsed": true
   },
   "outputs": [],
   "source": [
    "cv2.imshow('img',cropped)\n",
    "cv2.waitKey(0)\n",
    "cv2.destroyAllWindows()"
   ]
  },
  {
   "cell_type": "code",
   "execution_count": 304,
   "metadata": {},
   "outputs": [
    {
     "name": "stdout",
     "output_type": "stream",
     "text": [
      "Пиво БОЯРИНЪ ЖИВОЕ '|.-\n",
      "\n",
      "светлое 4,5% пэт\n",
      "ЗАВОД ':‘РЕХСОС. россия\n",
      "\n",
      "109\n",
      "\n",
      "|||ншн|ипнпшдш№ш5\n"
     ]
    }
   ],
   "source": [
    "pytesseract.pytesseract.tesseract_cmd = 'D:/Soft/Tesseract-OCR/tesseract.exe'\n",
    "tessdata_dir_config = '--tessdata-dir \"D:/Soft/Tesseract-OCR/tessdata\"'\n",
    "print(pytesseract.image_to_string(Image.open(\"latest_crop.jpg\"), lang='rus', config = tessdata_dir_config))"
   ]
  },
  {
   "cell_type": "markdown",
   "metadata": {},
   "source": [
    "<img src=\"tUb4iYk_cYk.jpg\", width = 400, height = 300>"
   ]
  },
  {
   "cell_type": "code",
   "execution_count": 305,
   "metadata": {},
   "outputs": [
    {
     "data": {
      "text/plain": [
       "True"
      ]
     },
     "execution_count": 305,
     "metadata": {},
     "output_type": "execute_result"
    }
   ],
   "source": [
    "img_path = \"tUb4iYk_cYk.jpg\"\n",
    "img = find_pricetag_file(img_path)\n",
    "\n",
    "cropped = cv2.imread(\"latest_crop.jpg\", 0)\n",
    "retval, cropped = cv2.threshold(cropped, 0, 255, cv2.THRESH_BINARY | cv2.THRESH_OTSU)\n",
    "\n",
    "cv2.imwrite( \"latest_crop.jpg\", cropped)"
   ]
  },
  {
   "cell_type": "markdown",
   "metadata": {},
   "source": [
    "<img src=\"screen/10.png\", width=500, height=400>"
   ]
  },
  {
   "cell_type": "code",
   "execution_count": 306,
   "metadata": {
    "collapsed": true
   },
   "outputs": [],
   "source": [
    "cv2.imshow('img',cropped)\n",
    "cv2.waitKey(0)\n",
    "cv2.destroyAllWindows()"
   ]
  },
  {
   "cell_type": "code",
   "execution_count": 307,
   "metadata": {},
   "outputs": [
    {
     "name": "stdout",
     "output_type": "stream",
     "text": [
      "Пиво БОЯРИНЪ ЖИВОЕ 1.42п\n",
      "\n",
      "светлое 04, 5% ПЭТ\n",
      "ЗАВОД Т.РЕХСОС РОССИЯ\n",
      "\n",
      "109.”\n",
      "\n",
      "\\\n",
      "\n",
      "Ш““ИПП”!”|№НШ|||||||||||| “&=—№№…„щц\n"
     ]
    }
   ],
   "source": [
    "pytesseract.pytesseract.tesseract_cmd = 'D:/Soft/Tesseract-OCR/tesseract.exe'\n",
    "tessdata_dir_config = '--tessdata-dir \"D:/Soft/Tesseract-OCR/tessdata\"'\n",
    "print(pytesseract.image_to_string(Image.open(\"latest_crop.jpg\"), lang='rus', config = tessdata_dir_config))"
   ]
  },
  {
   "cell_type": "markdown",
   "metadata": {},
   "source": [
    "<img src=\"WuUk3Cu3-ps.jpg\", width = 400, height = 300>"
   ]
  },
  {
   "cell_type": "code",
   "execution_count": 308,
   "metadata": {},
   "outputs": [
    {
     "data": {
      "text/plain": [
       "True"
      ]
     },
     "execution_count": 308,
     "metadata": {},
     "output_type": "execute_result"
    }
   ],
   "source": [
    "img_path = \"WuUk3Cu3-ps.jpg\"\n",
    "img = find_pricetag_file(img_path)\n",
    "\n",
    "cropped = cv2.imread(\"latest_crop.jpg\", 0)\n",
    "retval, cropped = cv2.threshold(cropped, 0, 255, cv2.THRESH_BINARY | cv2.THRESH_OTSU)\n",
    "\n",
    "kernel = np.ones((2,2),np.uint8)\n",
    "cropped = cv2.erode(cropped,kernel,iterations = 1)\n",
    "\n",
    "cv2.imwrite( \"latest_crop.jpg\", cropped)"
   ]
  },
  {
   "cell_type": "markdown",
   "metadata": {},
   "source": [
    "<img src=\"screen/11.png\", width=500, height=400>"
   ]
  },
  {
   "cell_type": "code",
   "execution_count": 309,
   "metadata": {
    "collapsed": true
   },
   "outputs": [],
   "source": [
    "cv2.imshow('img',cropped)\n",
    "cv2.waitKey(0)\n",
    "cv2.destroyAllWindows()"
   ]
  },
  {
   "cell_type": "code",
   "execution_count": 310,
   "metadata": {},
   "outputs": [
    {
     "name": "stdout",
     "output_type": "stream",
     "text": [
      "Пиво БОЯРИНЪ ЖИВОЕ 1.4211\n",
      "\n",
      "свиное 4,5% №1\n",
      "\n",
      "эти тихсос. россия :\n",
      "109\n",
      "|\n",
      "\n",
      "\\\\\\\\\\\\П\\№\\\\|\\\\\\№\\Ш\n"
     ]
    }
   ],
   "source": [
    "pytesseract.pytesseract.tesseract_cmd = 'D:/Soft/Tesseract-OCR/tesseract.exe'\n",
    "tessdata_dir_config = '--tessdata-dir \"D:/Soft/Tesseract-OCR/tessdata\"'\n",
    "print(pytesseract.image_to_string(Image.open(\"latest_crop.jpg\"), lang='rus', config = tessdata_dir_config))"
   ]
  }
 ],
 "metadata": {
  "kernelspec": {
   "display_name": "Python 3",
   "language": "python",
   "name": "python3"
  },
  "language_info": {
   "codemirror_mode": {
    "name": "ipython",
    "version": 3
   },
   "file_extension": ".py",
   "mimetype": "text/x-python",
   "name": "python",
   "nbconvert_exporter": "python",
   "pygments_lexer": "ipython3",
   "version": "3.6.3"
  }
 },
 "nbformat": 4,
 "nbformat_minor": 2
}
